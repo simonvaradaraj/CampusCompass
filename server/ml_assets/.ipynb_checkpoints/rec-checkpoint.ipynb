{
 "cells": [
  {
   "cell_type": "markdown",
   "metadata": {
    "id": "5EpLJPrEKxLD"
   },
   "source": [
    "# Scraping from University Website"
   ]
  },
  {
   "cell_type": "code",
   "execution_count": 1,
   "metadata": {
    "id": "9qrSgJGOK6SJ"
   },
   "outputs": [],
   "source": [
    "from bs4 import BeautifulSoup\n",
    "import requests\n",
    "import pandas as pd\n",
    "from urllib.parse import urlparse, parse_qs\n"
   ]
  },
  {
   "cell_type": "code",
   "execution_count": 2,
   "metadata": {
    "id": "ytD55Py4LAoH"
   },
   "outputs": [],
   "source": [
    "urls = [ 'https://stuactonline.tamu.edu/app/search/index/index/search/category?q=Academic%20-%20Engineering',\n",
    "        'https://stuactonline.tamu.edu/app/search/index/index/search/category?q=Academic%20-%20Agriculture%20and%20Life%20Sciences',\n",
    "         'https://stuactonline.tamu.edu/app/search/index/index/search/category?q=Academic%20-%20Architecture',\n",
    "         'https://stuactonline.tamu.edu/app/search/index/index/search/category?q=Academic%20-%20Government%20and%20Public%20Service',\n",
    "         'https://stuactonline.tamu.edu/app/search/index/index/search/category?q=Academic%20-%20Education%20and%20Human%20Development',\n",
    "         'https://stuactonline.tamu.edu/app/search/index/index/search/category?q=Academic%20-%20Geosciences',\n",
    "         'https://stuactonline.tamu.edu/app/search/index/index/search/category?q=Academic%20-%20Health%20Sciences',\n",
    "         'https://stuactonline.tamu.edu/app/search/index/index/search/category?q=Academic%20-%20Honors',\n",
    "         'https://stuactonline.tamu.edu/app/search/index/index/search/category?q=Academic%20-%20Law',\n",
    "         'https://stuactonline.tamu.edu/app/search/index/index/search/category?q=Academic%20-%20Liberal%20Arts',\n",
    "         'https://stuactonline.tamu.edu/app/search/index/index/search/category?q=Academic%20-%20Business',\n",
    "         'https://stuactonline.tamu.edu/app/search/index/index/search/category?q=Academic%20-%20Science',\n",
    "         'https://stuactonline.tamu.edu/app/search/index/index/search/category?q=Academic%20-%20Veterinary%20Medicine%20and%20Biomedical%20Sciences',\n",
    "         'https://stuactonline.tamu.edu/app/search/index/index/search/category?q=Arts/%20Entertainment',\n",
    "         'https://stuactonline.tamu.edu/app/search/index/index/search/category?q=Fraternity/Sorority%20Life',\n",
    "         'https://stuactonline.tamu.edu/app/search/index/index/search/category?q=International/Multicultural',\n",
    "         'https://stuactonline.tamu.edu/app/search/index/index/search/category?q=Leadership/Governance',\n",
    "         'https://stuactonline.tamu.edu/app/search/index/index/search/category?q=Military',\n",
    "         'https://stuactonline.tamu.edu/app/search/index/index/search/category?q=Politics/Advocacy',\n",
    "         'https://stuactonline.tamu.edu/app/search/index/index/search/category?q=Professional/Career',\n",
    "         'https://stuactonline.tamu.edu/app/search/index/index/search/category?q=Recreation/Sports',\n",
    "         'https://stuactonline.tamu.edu/app/search/index/index/search/category?q=Religious/Spiritual',\n",
    "         'https://stuactonline.tamu.edu/app/search/index/index/search/category?q=Residence%20Halls',\n",
    "         'https://stuactonline.tamu.edu/app/search/index/index/search/category?q=Service',\n",
    "         'https://stuactonline.tamu.edu/app/search/index/index/search/category?q=Social',\n",
    "         'https://stuactonline.tamu.edu/app/search/index/index/search/category?q=Special%20Interest']\n",
    "\n",
    "dfs = []\n",
    "\n",
    "for url in urls:\n",
    "  page = requests.get(url)\n",
    "  soup = BeautifulSoup(page.text, 'html')\n",
    "\n",
    "  table = soup.find('table')\n",
    "  # title (string), desc (string), recognition status (string), website (string), filters (string)\n",
    "  cols = [\"title\", \"desc\", \"filter\", \"rec_status\", \"website\"]\n",
    "  df = pd.DataFrame(columns = cols)\n",
    "\n",
    "  rows = table.find_all('tr')\n",
    "  for row in rows:\n",
    "    title = row.find('big').text.strip()\n",
    "    desc = \"\"\n",
    "    if row.find('p'):\n",
    "      desc = row.find('p').text.strip()\n",
    "\n",
    "    rec_status = row.find('img').get('title')\n",
    "    website = row.find_all('a')[-1].get('href')\n",
    "\n",
    "\n",
    "    parsed_url = urlparse(url)\n",
    "    query_parameters = parse_qs(parsed_url.query)\n",
    "    category = query_parameters.get('q', [''])[0]\n",
    "    decoded_category = category.split('%20')\n",
    "\n",
    "    filter = ' '.join(decoded_category)\n",
    "\n",
    "    data = [title, desc, filter, rec_status, website]\n",
    "\n",
    "    length = len(df)\n",
    "    df.loc[length] = data\n",
    "\n",
    "  dfs.append(df)\n"
   ]
  },
  {
   "cell_type": "code",
   "execution_count": 3,
   "metadata": {
    "colab": {
     "base_uri": "https://localhost:8080/",
     "height": 206
    },
    "id": "YE7qC_UrLew3",
    "outputId": "e9e4f5f4-bd48-47e9-a66a-500d919ab1f9"
   },
   "outputs": [
    {
     "data": {
      "text/html": [
       "<div>\n",
       "<style scoped>\n",
       "    .dataframe tbody tr th:only-of-type {\n",
       "        vertical-align: middle;\n",
       "    }\n",
       "\n",
       "    .dataframe tbody tr th {\n",
       "        vertical-align: top;\n",
       "    }\n",
       "\n",
       "    .dataframe thead th {\n",
       "        text-align: right;\n",
       "    }\n",
       "</style>\n",
       "<table border=\"1\" class=\"dataframe\">\n",
       "  <thead>\n",
       "    <tr style=\"text-align: right;\">\n",
       "      <th></th>\n",
       "      <th>title</th>\n",
       "      <th>desc</th>\n",
       "      <th>filter</th>\n",
       "      <th>rec_status</th>\n",
       "      <th>website</th>\n",
       "    </tr>\n",
       "  </thead>\n",
       "  <tbody>\n",
       "    <tr>\n",
       "      <th>0</th>\n",
       "      <td>2D Visual Developers</td>\n",
       "      <td>To provide a space where those with a shared i...</td>\n",
       "      <td>Academic - Engineering</td>\n",
       "      <td>Recognized</td>\n",
       "      <td>https://stuactonline.tamu.edu/app/organization...</td>\n",
       "    </tr>\n",
       "    <tr>\n",
       "      <th>1</th>\n",
       "      <td>Aerospace Engineering Graduate Student Associa...</td>\n",
       "      <td>1. Enrich the graduate experience for graduate...</td>\n",
       "      <td>Academic - Engineering</td>\n",
       "      <td>Recognized</td>\n",
       "      <td>https://stuactonline.tamu.edu/app/organization...</td>\n",
       "    </tr>\n",
       "    <tr>\n",
       "      <th>2</th>\n",
       "      <td>Aggie Aerospace Women in Engineering</td>\n",
       "      <td>To support and encourage women at the Texas A&amp;...</td>\n",
       "      <td>Academic - Engineering</td>\n",
       "      <td>Recognized</td>\n",
       "      <td>http://aawe.tamu.edu</td>\n",
       "    </tr>\n",
       "    <tr>\n",
       "      <th>3</th>\n",
       "      <td>Aggie Club of Engineers</td>\n",
       "      <td>Aggie Club of Engineers is a social, service, ...</td>\n",
       "      <td>Academic - Engineering</td>\n",
       "      <td>Recognized</td>\n",
       "      <td>http://aggieclubofengineers.tamu.edu</td>\n",
       "    </tr>\n",
       "    <tr>\n",
       "      <th>4</th>\n",
       "      <td>Aggie Robotics</td>\n",
       "      <td>Aggie Robotics is organized as an association ...</td>\n",
       "      <td>Academic - Engineering</td>\n",
       "      <td>Recognized</td>\n",
       "      <td>http://firstalumni.tamu.edu</td>\n",
       "    </tr>\n",
       "  </tbody>\n",
       "</table>\n",
       "</div>"
      ],
      "text/plain": [
       "                                               title  \\\n",
       "0                               2D Visual Developers   \n",
       "1  Aerospace Engineering Graduate Student Associa...   \n",
       "2               Aggie Aerospace Women in Engineering   \n",
       "3                            Aggie Club of Engineers   \n",
       "4                                     Aggie Robotics   \n",
       "\n",
       "                                                desc                  filter  \\\n",
       "0  To provide a space where those with a shared i...  Academic - Engineering   \n",
       "1  1. Enrich the graduate experience for graduate...  Academic - Engineering   \n",
       "2  To support and encourage women at the Texas A&...  Academic - Engineering   \n",
       "3  Aggie Club of Engineers is a social, service, ...  Academic - Engineering   \n",
       "4  Aggie Robotics is organized as an association ...  Academic - Engineering   \n",
       "\n",
       "   rec_status                                            website  \n",
       "0  Recognized  https://stuactonline.tamu.edu/app/organization...  \n",
       "1  Recognized  https://stuactonline.tamu.edu/app/organization...  \n",
       "2  Recognized                               http://aawe.tamu.edu  \n",
       "3  Recognized               http://aggieclubofengineers.tamu.edu  \n",
       "4  Recognized                        http://firstalumni.tamu.edu  "
      ]
     },
     "execution_count": 3,
     "metadata": {},
     "output_type": "execute_result"
    }
   ],
   "source": [
    "# concatenating the org data\n",
    "first_df = dfs[0]\n",
    "other_dfs = dfs[1:]\n",
    "\n",
    "for dframe in other_dfs:\n",
    "  orgs = pd.concat([first_df, dframe], ignore_index=True)\n",
    "\n",
    "\n",
    "\n",
    "orgs.head()"
   ]
  },
  {
   "cell_type": "code",
   "execution_count": 4,
   "metadata": {
    "colab": {
     "base_uri": "https://localhost:8080/"
    },
    "id": "LeoGghm4LOyO",
    "outputId": "9dae3179-7992-4bc2-eed0-e5c01322d57e"
   },
   "outputs": [
    {
     "data": {
      "text/plain": [
       "(486, 5)"
      ]
     },
     "execution_count": 4,
     "metadata": {},
     "output_type": "execute_result"
    }
   ],
   "source": [
    "orgs.shape"
   ]
  },
  {
   "cell_type": "code",
   "execution_count": 5,
   "metadata": {
    "id": "P7qDXp5BSFvJ"
   },
   "outputs": [],
   "source": [
    "# Concatinate all relevant text\n",
    "orgs['tags'] = orgs['desc'] + \" \" + orgs['filter'] + \" \" + orgs['title']\n",
    "orgs['tags'] = orgs['tags'].apply(lambda x:x.lower())\n",
    "\n",
    "# getting rid of non-unique and not recognized orgs\n",
    "non_unique_not_recognized = orgs[(orgs.duplicated(subset='title', keep=False)) & (orgs['rec_status'] != 'Recognized')]\n",
    "orgs = orgs.drop(non_unique_not_recognized.index)"
   ]
  },
  {
   "cell_type": "code",
   "execution_count": 6,
   "metadata": {
    "id": "Sgel9ZUfk3bE"
   },
   "outputs": [
    {
     "ename": "ModuleNotFoundError",
     "evalue": "No module named 'nltk'",
     "output_type": "error",
     "traceback": [
      "\u001b[1;31m---------------------------------------------------------------------------\u001b[0m",
      "\u001b[1;31mModuleNotFoundError\u001b[0m                       Traceback (most recent call last)",
      "Input \u001b[1;32mIn [6]\u001b[0m, in \u001b[0;36m<cell line: 1>\u001b[1;34m()\u001b[0m\n\u001b[1;32m----> 1\u001b[0m \u001b[38;5;28;01mimport\u001b[39;00m \u001b[38;5;21;01mnltk\u001b[39;00m\n\u001b[0;32m      2\u001b[0m \u001b[38;5;28;01mfrom\u001b[39;00m \u001b[38;5;21;01mnltk\u001b[39;00m\u001b[38;5;21;01m.\u001b[39;00m\u001b[38;5;21;01mstem\u001b[39;00m \u001b[38;5;28;01mimport\u001b[39;00m PorterStemmer\n\u001b[0;32m      3\u001b[0m \u001b[38;5;28;01mfrom\u001b[39;00m \u001b[38;5;21;01msklearn\u001b[39;00m\u001b[38;5;21;01m.\u001b[39;00m\u001b[38;5;21;01mfeature_extraction\u001b[39;00m\u001b[38;5;21;01m.\u001b[39;00m\u001b[38;5;21;01mtext\u001b[39;00m \u001b[38;5;28;01mimport\u001b[39;00m CountVectorizer\n",
      "\u001b[1;31mModuleNotFoundError\u001b[0m: No module named 'nltk'"
     ]
    }
   ],
   "source": [
    "import nltk\n",
    "from nltk.stem import PorterStemmer\n",
    "from sklearn.feature_extraction.text import CountVectorizer"
   ]
  },
  {
   "cell_type": "code",
   "execution_count": null,
   "metadata": {
    "id": "MqkuMEWCk6nA"
   },
   "outputs": [],
   "source": [
    "ps = PorterStemmer()\n",
    "def getStems(tags):\n",
    "    words = []\n",
    "    for word in tags.split():\n",
    "        words.append(ps.stem(word))\n",
    "\n",
    "    return \" \".join(words)"
   ]
  },
  {
   "cell_type": "code",
   "execution_count": null,
   "metadata": {
    "id": "9x34FGRElMCP"
   },
   "outputs": [],
   "source": [
    "orgs['tags'] = orgs['tags'].apply(getStems)"
   ]
  },
  {
   "cell_type": "code",
   "execution_count": null,
   "metadata": {
    "id": "FWk0TiNgldWF"
   },
   "outputs": [],
   "source": [
    "# getting the 2000 most impactful words in the tags\n",
    "cv = CountVectorizer(max_features=3000,stop_words='english')\n",
    "vectors = cv.fit_transform(orgs['tags']).toarray()"
   ]
  },
  {
   "cell_type": "code",
   "execution_count": null,
   "metadata": {
    "id": "Y23ayj3emdX7"
   },
   "outputs": [],
   "source": [
    "from sklearn.metrics.pairwise import cosine_similarity"
   ]
  },
  {
   "cell_type": "code",
   "execution_count": null,
   "metadata": {
    "id": "OmdGugv2mfVO"
   },
   "outputs": [],
   "source": [
    "similarity = cosine_similarity(vectors)\n",
    "\n",
    "def recommend(org):\n",
    "    index = orgs[orgs['title'] == org].index[0]\n",
    "    distances = sorted(list(enumerate(similarity[index])),reverse=True,key = lambda x: x[1])\n",
    "    for i in distances[0:25]:\n",
    "        print(orgs.iloc[i[0]])"
   ]
  },
  {
   "cell_type": "code",
   "execution_count": null,
   "metadata": {
    "id": "sQ0bTISom1iA"
   },
   "outputs": [],
   "source": [
    "# in the case where we input a name that does not exist in the name pool\n",
    "# pip install python-Levenshtein\n",
    "\n",
    "import Levenshtein\n",
    "\n",
    "def closest_name(input_name):\n",
    "    closest = min(orgs['title'].tolist(), key=lambda x: Levenshtein.distance(input_name.lower(), x.lower()))\n",
    "    return closest"
   ]
  },
  {
   "cell_type": "code",
   "execution_count": null,
   "metadata": {
    "colab": {
     "base_uri": "https://localhost:8080/"
    },
    "id": "2IidlexOs-Ua",
    "outputId": "9a050c1d-11fb-4f61-f4d0-6470528b7f4b"
   },
   "outputs": [],
   "source": [
    "val = \"product\"\n",
    "recommend(closest_name(val))"
   ]
  },
  {
   "cell_type": "code",
   "execution_count": null,
   "metadata": {
    "id": "TH1jR2RF1o2T"
   },
   "outputs": [],
   "source": [
    "import pickle\n",
    "pickle.dump(orgs,open('org_list.pkl','wb'))\n",
    "pickle.dump(similarity,open('similarity.pkl','wb'))"
   ]
  }
 ],
 "metadata": {
  "colab": {
   "provenance": []
  },
  "kernelspec": {
   "display_name": "Python 3 (ipykernel)",
   "language": "python",
   "name": "python3"
  },
  "language_info": {
   "codemirror_mode": {
    "name": "ipython",
    "version": 3
   },
   "file_extension": ".py",
   "mimetype": "text/x-python",
   "name": "python",
   "nbconvert_exporter": "python",
   "pygments_lexer": "ipython3",
   "version": "3.9.7"
  }
 },
 "nbformat": 4,
 "nbformat_minor": 1
}
