{
 "cells": [
  {
   "cell_type": "markdown",
   "metadata": {
    "id": "5EpLJPrEKxLD"
   },
   "source": [
    "# Scraping from University Website"
   ]
  },
  {
   "cell_type": "code",
   "execution_count": 23,
   "metadata": {
    "id": "9qrSgJGOK6SJ"
   },
   "outputs": [],
   "source": [
    "from bs4 import BeautifulSoup\n",
    "import requests\n",
    "import pandas as pd\n",
    "from urllib.parse import urlparse, parse_qs\n"
   ]
  },
  {
   "cell_type": "code",
   "execution_count": 24,
   "metadata": {
    "id": "ytD55Py4LAoH"
   },
   "outputs": [
    {
     "name": "stdout",
     "output_type": "stream",
     "text": [
      "2091\n"
     ]
    }
   ],
   "source": [
    "urls = [ 'https://stuactonline.tamu.edu/app/search/index/index/search/category?q=Academic%20-%20Engineering',\n",
    "        'https://stuactonline.tamu.edu/app/search/index/index/search/category?q=Academic%20-%20Agriculture%20and%20Life%20Sciences',\n",
    "         'https://stuactonline.tamu.edu/app/search/index/index/search/category?q=Academic%20-%20Architecture',\n",
    "         'https://stuactonline.tamu.edu/app/search/index/index/search/category?q=Academic%20-%20Government%20and%20Public%20Service',\n",
    "         'https://stuactonline.tamu.edu/app/search/index/index/search/category?q=Academic%20-%20Education%20and%20Human%20Development',\n",
    "         'https://stuactonline.tamu.edu/app/search/index/index/search/category?q=Academic%20-%20Geosciences',\n",
    "         'https://stuactonline.tamu.edu/app/search/index/index/search/category?q=Academic%20-%20Health%20Sciences',\n",
    "         'https://stuactonline.tamu.edu/app/search/index/index/search/category?q=Academic%20-%20Honors',\n",
    "         'https://stuactonline.tamu.edu/app/search/index/index/search/category?q=Academic%20-%20Law',\n",
    "         'https://stuactonline.tamu.edu/app/search/index/index/search/category?q=Academic%20-%20Liberal%20Arts',\n",
    "         'https://stuactonline.tamu.edu/app/search/index/index/search/category?q=Academic%20-%20Business',\n",
    "         'https://stuactonline.tamu.edu/app/search/index/index/search/category?q=Academic%20-%20Science',\n",
    "         'https://stuactonline.tamu.edu/app/search/index/index/search/category?q=Academic%20-%20Veterinary%20Medicine%20and%20Biomedical%20Sciences',\n",
    "         'https://stuactonline.tamu.edu/app/search/index/index/search/category?q=Arts/%20Entertainment',\n",
    "         'https://stuactonline.tamu.edu/app/search/index/index/search/category?q=Fraternity/Sorority%20Life',\n",
    "         'https://stuactonline.tamu.edu/app/search/index/index/search/category?q=International/Multicultural',\n",
    "         'https://stuactonline.tamu.edu/app/search/index/index/search/category?q=Leadership/Governance',\n",
    "         'https://stuactonline.tamu.edu/app/search/index/index/search/category?q=Military',\n",
    "         'https://stuactonline.tamu.edu/app/search/index/index/search/category?q=Politics/Advocacy',\n",
    "         'https://stuactonline.tamu.edu/app/search/index/index/search/category?q=Professional/Career',\n",
    "         'https://stuactonline.tamu.edu/app/search/index/index/search/category?q=Recreation/Sports',\n",
    "         'https://stuactonline.tamu.edu/app/search/index/index/search/category?q=Religious/Spiritual',\n",
    "         'https://stuactonline.tamu.edu/app/search/index/index/search/category?q=Residence%20Halls',\n",
    "         'https://stuactonline.tamu.edu/app/search/index/index/search/category?q=Service',\n",
    "         'https://stuactonline.tamu.edu/app/search/index/index/search/category?q=Social',\n",
    "         'https://stuactonline.tamu.edu/app/search/index/index/search/category?q=Special%20Interest']\n",
    "\n",
    "dfs = []\n",
    "sum = 0\n",
    "\n",
    "for url in urls:\n",
    "  page = requests.get(url)\n",
    "  soup = BeautifulSoup(page.text, 'html')\n",
    "\n",
    "  table = soup.find('table')\n",
    "  # title (string), desc (string), recognition status (string), website (string), filters (string)\n",
    "  cols = [\"title\", \"desc\", \"filter\", \"rec_status\", \"website\"]\n",
    "  df = pd.DataFrame(columns = cols)\n",
    "\n",
    "  rows = table.find_all('tr')\n",
    "  for row in rows:\n",
    "    title = row.find('big').text.strip()\n",
    "    desc = \"\"\n",
    "    if row.find('p'):\n",
    "      desc = row.find('p').text.strip()\n",
    "\n",
    "    rec_status = row.find('img').get('title')\n",
    "    website = row.find_all('a')[-1].get('href')\n",
    "\n",
    "\n",
    "    parsed_url = urlparse(url)\n",
    "    query_parameters = parse_qs(parsed_url.query)\n",
    "    category = query_parameters.get('q', [''])[0]\n",
    "    decoded_category = category.split('%20')\n",
    "\n",
    "    filter = ' '.join(decoded_category)\n",
    "    data = [title, desc, filter, rec_status, website]\n",
    "\n",
    "    length = len(df)\n",
    "    df.loc[length] = data\n",
    "\n",
    "    sum += 1\n",
    "\n",
    "  dfs.append(df)\n",
    "\n",
    "print(sum)\n"
   ]
  },
  {
   "cell_type": "code",
   "execution_count": 25,
   "metadata": {
    "colab": {
     "base_uri": "https://localhost:8080/",
     "height": 206
    },
    "id": "YE7qC_UrLew3",
    "outputId": "e9e4f5f4-bd48-47e9-a66a-500d919ab1f9"
   },
   "outputs": [
    {
     "data": {
      "text/html": [
       "<div>\n",
       "<style scoped>\n",
       "    .dataframe tbody tr th:only-of-type {\n",
       "        vertical-align: middle;\n",
       "    }\n",
       "\n",
       "    .dataframe tbody tr th {\n",
       "        vertical-align: top;\n",
       "    }\n",
       "\n",
       "    .dataframe thead th {\n",
       "        text-align: right;\n",
       "    }\n",
       "</style>\n",
       "<table border=\"1\" class=\"dataframe\">\n",
       "  <thead>\n",
       "    <tr style=\"text-align: right;\">\n",
       "      <th></th>\n",
       "      <th>title</th>\n",
       "      <th>desc</th>\n",
       "      <th>filter</th>\n",
       "      <th>rec_status</th>\n",
       "      <th>website</th>\n",
       "    </tr>\n",
       "  </thead>\n",
       "  <tbody>\n",
       "    <tr>\n",
       "      <th>0</th>\n",
       "      <td>2D Visual Developers</td>\n",
       "      <td>To provide a space where those with a shared i...</td>\n",
       "      <td>Academic - Engineering</td>\n",
       "      <td>Recognized</td>\n",
       "      <td>https://stuactonline.tamu.edu/app/organization...</td>\n",
       "    </tr>\n",
       "    <tr>\n",
       "      <th>1</th>\n",
       "      <td>Aerospace Engineering Graduate Student Associa...</td>\n",
       "      <td>1. Enrich the graduate experience for graduate...</td>\n",
       "      <td>Academic - Engineering</td>\n",
       "      <td>Recognized</td>\n",
       "      <td>https://stuactonline.tamu.edu/app/organization...</td>\n",
       "    </tr>\n",
       "    <tr>\n",
       "      <th>2</th>\n",
       "      <td>Aggie Aerospace Women in Engineering</td>\n",
       "      <td>To support and encourage women at the Texas A&amp;...</td>\n",
       "      <td>Academic - Engineering</td>\n",
       "      <td>Recognized</td>\n",
       "      <td>http://aawe.tamu.edu</td>\n",
       "    </tr>\n",
       "    <tr>\n",
       "      <th>3</th>\n",
       "      <td>Aggie Club of Engineers</td>\n",
       "      <td>Aggie Club of Engineers is a social, service, ...</td>\n",
       "      <td>Academic - Engineering</td>\n",
       "      <td>Recognized</td>\n",
       "      <td>http://aggieclubofengineers.tamu.edu</td>\n",
       "    </tr>\n",
       "    <tr>\n",
       "      <th>4</th>\n",
       "      <td>Aggie Robotics</td>\n",
       "      <td>Aggie Robotics is organized as an association ...</td>\n",
       "      <td>Academic - Engineering</td>\n",
       "      <td>Recognized</td>\n",
       "      <td>http://firstalumni.tamu.edu</td>\n",
       "    </tr>\n",
       "  </tbody>\n",
       "</table>\n",
       "</div>"
      ],
      "text/plain": [
       "                                               title  \\\n",
       "0                               2D Visual Developers   \n",
       "1  Aerospace Engineering Graduate Student Associa...   \n",
       "2               Aggie Aerospace Women in Engineering   \n",
       "3                            Aggie Club of Engineers   \n",
       "4                                     Aggie Robotics   \n",
       "\n",
       "                                                desc                  filter  \\\n",
       "0  To provide a space where those with a shared i...  Academic - Engineering   \n",
       "1  1. Enrich the graduate experience for graduate...  Academic - Engineering   \n",
       "2  To support and encourage women at the Texas A&...  Academic - Engineering   \n",
       "3  Aggie Club of Engineers is a social, service, ...  Academic - Engineering   \n",
       "4  Aggie Robotics is organized as an association ...  Academic - Engineering   \n",
       "\n",
       "   rec_status                                            website  \n",
       "0  Recognized  https://stuactonline.tamu.edu/app/organization...  \n",
       "1  Recognized  https://stuactonline.tamu.edu/app/organization...  \n",
       "2  Recognized                               http://aawe.tamu.edu  \n",
       "3  Recognized               http://aggieclubofengineers.tamu.edu  \n",
       "4  Recognized                        http://firstalumni.tamu.edu  "
      ]
     },
     "execution_count": 25,
     "metadata": {},
     "output_type": "execute_result"
    }
   ],
   "source": [
    "# concatenating the org data\n",
    "orgs = dfs[0]\n",
    "other_dfs = dfs[1:]\n",
    "\n",
    "for dframe in other_dfs:\n",
    "  orgs = pd.concat([orgs, dframe], ignore_index=True)\n",
    "\n",
    "\n",
    "\n",
    "orgs.head()"
   ]
  },
  {
   "cell_type": "code",
   "execution_count": 26,
   "metadata": {
    "colab": {
     "base_uri": "https://localhost:8080/"
    },
    "id": "LeoGghm4LOyO",
    "outputId": "9dae3179-7992-4bc2-eed0-e5c01322d57e"
   },
   "outputs": [
    {
     "data": {
      "text/plain": [
       "(2091, 5)"
      ]
     },
     "execution_count": 26,
     "metadata": {},
     "output_type": "execute_result"
    }
   ],
   "source": [
    "orgs.shape"
   ]
  },
  {
   "cell_type": "code",
   "execution_count": 27,
   "metadata": {
    "id": "P7qDXp5BSFvJ"
   },
   "outputs": [],
   "source": [
    "# Concatinate all relevant text\n",
    "orgs['tags'] = orgs['desc'] + \" \" + orgs['filter'] + \" \" + orgs['title']\n",
    "orgs['tags'] = orgs['tags'].apply(lambda x:x.lower())\n",
    "\n",
    "# getting rid of non-unique and not recognized orgs\n",
    "non_unique_not_recognized = orgs[(orgs.duplicated(subset='title', keep=False)) & (orgs['rec_status'] != 'Recognized')]\n",
    "orgs = orgs.drop(non_unique_not_recognized.index)"
   ]
  },
  {
   "cell_type": "code",
   "execution_count": 28,
   "metadata": {
    "id": "Sgel9ZUfk3bE"
   },
   "outputs": [],
   "source": [
    "import nltk\n",
    "from nltk.stem import PorterStemmer\n",
    "from sklearn.feature_extraction.text import CountVectorizer"
   ]
  },
  {
   "cell_type": "code",
   "execution_count": 29,
   "metadata": {
    "id": "MqkuMEWCk6nA"
   },
   "outputs": [],
   "source": [
    "ps = PorterStemmer()\n",
    "def getStems(tags):\n",
    "    words = []\n",
    "    for word in tags.split():\n",
    "        words.append(ps.stem(word))\n",
    "\n",
    "    return \" \".join(words)"
   ]
  },
  {
   "cell_type": "code",
   "execution_count": 30,
   "metadata": {
    "id": "9x34FGRElMCP"
   },
   "outputs": [],
   "source": [
    "orgs['tags'] = orgs['tags'].apply(getStems)"
   ]
  },
  {
   "cell_type": "code",
   "execution_count": 31,
   "metadata": {
    "id": "FWk0TiNgldWF"
   },
   "outputs": [],
   "source": [
    "# getting the 2000 most impactful words in the tags\n",
    "cv = CountVectorizer(max_features=500,stop_words='english')\n",
    "vectors = cv.fit_transform(orgs['tags']).toarray()"
   ]
  },
  {
   "cell_type": "code",
   "execution_count": 32,
   "metadata": {
    "id": "Y23ayj3emdX7"
   },
   "outputs": [],
   "source": [
    "from sklearn.metrics.pairwise import cosine_similarity"
   ]
  },
  {
   "cell_type": "code",
   "execution_count": 91,
   "metadata": {
    "id": "OmdGugv2mfVO"
   },
   "outputs": [],
   "source": [
    "similarity = cosine_similarity(vectors)\n",
    "\n",
    "def recommend(org):\n",
    "    index = orgs[orgs['title'] == org].index[0]\n",
    "    distances = sorted(list(enumerate(similarity[index])),reverse=True, key = lambda x: x[1])\n",
    "    recommended_orgs = pd.DataFrame(columns=orgs.columns)\n",
    "    for i in distances[0:10]:\n",
    "        # print(orgs.iloc[i[0]])\n",
    "        recommended_orgs = pd.concat([recommended_orgs, orgs.iloc[[i[0]]]], ignore_index=True)\n",
    "    return recommended_orgs"
   ]
  },
  {
   "cell_type": "code",
   "execution_count": 34,
   "metadata": {
    "id": "sQ0bTISom1iA"
   },
   "outputs": [],
   "source": [
    "# in the case where we input a name that does not exist in the name pool\n",
    "# pip install python-Levenshtein\n",
    "\n",
    "import Levenshtein\n",
    "\n",
    "def closest_name(input_name):\n",
    "    closest = min(orgs['title'].tolist(), key=lambda x: Levenshtein.distance(input_name.lower(), x.lower()))\n",
    "    return closest"
   ]
  },
  {
   "cell_type": "code",
   "execution_count": 35,
   "metadata": {
    "colab": {
     "base_uri": "https://localhost:8080/"
    },
    "id": "2IidlexOs-Ua",
    "outputId": "9a050c1d-11fb-4f61-f4d0-6470528b7f4b"
   },
   "outputs": [
    {
     "data": {
      "text/html": [
       "<div>\n",
       "<style scoped>\n",
       "    .dataframe tbody tr th:only-of-type {\n",
       "        vertical-align: middle;\n",
       "    }\n",
       "\n",
       "    .dataframe tbody tr th {\n",
       "        vertical-align: top;\n",
       "    }\n",
       "\n",
       "    .dataframe thead th {\n",
       "        text-align: right;\n",
       "    }\n",
       "</style>\n",
       "<table border=\"1\" class=\"dataframe\">\n",
       "  <thead>\n",
       "    <tr style=\"text-align: right;\">\n",
       "      <th></th>\n",
       "      <th>title</th>\n",
       "      <th>desc</th>\n",
       "      <th>filter</th>\n",
       "      <th>rec_status</th>\n",
       "      <th>website</th>\n",
       "      <th>tags</th>\n",
       "    </tr>\n",
       "  </thead>\n",
       "  <tbody>\n",
       "    <tr>\n",
       "      <th>0</th>\n",
       "      <td>Dream Outside the Box</td>\n",
       "      <td>The mission of Dream Outside the Box TAMU is t...</td>\n",
       "      <td>Academic - Engineering</td>\n",
       "      <td>Not Recognized</td>\n",
       "      <td>https://stuactonline.tamu.edu/app/organization...</td>\n",
       "      <td>the mission of dream outsid the box tamu is to...</td>\n",
       "    </tr>\n",
       "    <tr>\n",
       "      <th>1</th>\n",
       "      <td>TAMU Fluid Power Club</td>\n",
       "      <td>The mission of the TAMU Fluid Power Club (TAMU...</td>\n",
       "      <td>Academic - Engineering</td>\n",
       "      <td>Recognized</td>\n",
       "      <td>https://stuactonline.tamu.edu/app/organization...</td>\n",
       "      <td>the mission of the tamu fluid power club (tamu...</td>\n",
       "    </tr>\n",
       "    <tr>\n",
       "      <th>2</th>\n",
       "      <td>TAMU Futbol Club</td>\n",
       "      <td>The mission of TAMU Futbol Club(TAMU FC) is to...</td>\n",
       "      <td>Academic - Engineering</td>\n",
       "      <td>Not Recognized</td>\n",
       "      <td>https://stuactonline.tamu.edu/app/organization...</td>\n",
       "      <td>the mission of tamu futbol club(tamu fc) is to...</td>\n",
       "    </tr>\n",
       "    <tr>\n",
       "      <th>3</th>\n",
       "      <td>McAllen Society of Engineers</td>\n",
       "      <td>The mission of the Society of Engineers at McA...</td>\n",
       "      <td>Academic - Engineering</td>\n",
       "      <td>Not Recognized</td>\n",
       "      <td>https://stuactonline.tamu.edu/app/organization...</td>\n",
       "      <td>the mission of the societi of engin at mcallen...</td>\n",
       "    </tr>\n",
       "    <tr>\n",
       "      <th>4</th>\n",
       "      <td>Goju-ryu at TAMU</td>\n",
       "      <td>Sorry this Club is now Closed.</td>\n",
       "      <td>Academic - Engineering</td>\n",
       "      <td>Not Recognized</td>\n",
       "      <td>https://stuactonline.tamu.edu/app/organization...</td>\n",
       "      <td>sorri thi club is now closed. academ - engin g...</td>\n",
       "    </tr>\n",
       "    <tr>\n",
       "      <th>5</th>\n",
       "      <td>International Council on Systems Engineering</td>\n",
       "      <td>The mission of INCOSE at Texas A&amp;M is to facil...</td>\n",
       "      <td>Academic - Engineering</td>\n",
       "      <td>Recognized with Restrictions</td>\n",
       "      <td>https://stuactonline.tamu.edu/app/organization...</td>\n",
       "      <td>the mission of incos at texa a&amp;m is to facilit...</td>\n",
       "    </tr>\n",
       "    <tr>\n",
       "      <th>6</th>\n",
       "      <td>Society of Asian Scientists &amp; Engineers</td>\n",
       "      <td>SASE is dedicated to the advancement of Asian ...</td>\n",
       "      <td>Academic - Engineering</td>\n",
       "      <td>Recognized</td>\n",
       "      <td>http://sase.tamu.edu</td>\n",
       "      <td>sase is dedic to the advanc of asian heritag s...</td>\n",
       "    </tr>\n",
       "    <tr>\n",
       "      <th>7</th>\n",
       "      <td>Aggie Exercise Physiology Club</td>\n",
       "      <td>The purpose of this organization is to provide...</td>\n",
       "      <td>Academic - Education and Human Development</td>\n",
       "      <td>Not Recognized</td>\n",
       "      <td>http://aggieaep.tamu.edu</td>\n",
       "      <td>the purpos of thi organ is to provid kinesiolo...</td>\n",
       "    </tr>\n",
       "    <tr>\n",
       "      <th>8</th>\n",
       "      <td>Aggie Tutors</td>\n",
       "      <td>We strive to enrich the education of K-12 Stud...</td>\n",
       "      <td>Academic - Education and Human Development</td>\n",
       "      <td>Not Recognized</td>\n",
       "      <td>https://stuactonline.tamu.edu/app/organization...</td>\n",
       "      <td>we strive to enrich the educ of k-12 student i...</td>\n",
       "    </tr>\n",
       "    <tr>\n",
       "      <th>9</th>\n",
       "      <td>AgSPIRE</td>\n",
       "      <td>The mission of AgSPIRE is to provide children ...</td>\n",
       "      <td>Academic - Engineering</td>\n",
       "      <td>Not Recognized</td>\n",
       "      <td>https://stuactonline.tamu.edu/app/organization...</td>\n",
       "      <td>the mission of agspir is to provid children in...</td>\n",
       "    </tr>\n",
       "  </tbody>\n",
       "</table>\n",
       "</div>"
      ],
      "text/plain": [
       "                                          title  \\\n",
       "0                         Dream Outside the Box   \n",
       "1                         TAMU Fluid Power Club   \n",
       "2                              TAMU Futbol Club   \n",
       "3                  McAllen Society of Engineers   \n",
       "4                              Goju-ryu at TAMU   \n",
       "5  International Council on Systems Engineering   \n",
       "6       Society of Asian Scientists & Engineers   \n",
       "7                Aggie Exercise Physiology Club   \n",
       "8                                  Aggie Tutors   \n",
       "9                                       AgSPIRE   \n",
       "\n",
       "                                                desc  \\\n",
       "0  The mission of Dream Outside the Box TAMU is t...   \n",
       "1  The mission of the TAMU Fluid Power Club (TAMU...   \n",
       "2  The mission of TAMU Futbol Club(TAMU FC) is to...   \n",
       "3  The mission of the Society of Engineers at McA...   \n",
       "4                     Sorry this Club is now Closed.   \n",
       "5  The mission of INCOSE at Texas A&M is to facil...   \n",
       "6  SASE is dedicated to the advancement of Asian ...   \n",
       "7  The purpose of this organization is to provide...   \n",
       "8  We strive to enrich the education of K-12 Stud...   \n",
       "9  The mission of AgSPIRE is to provide children ...   \n",
       "\n",
       "                                       filter                    rec_status  \\\n",
       "0                      Academic - Engineering                Not Recognized   \n",
       "1                      Academic - Engineering                    Recognized   \n",
       "2                      Academic - Engineering                Not Recognized   \n",
       "3                      Academic - Engineering                Not Recognized   \n",
       "4                      Academic - Engineering                Not Recognized   \n",
       "5                      Academic - Engineering  Recognized with Restrictions   \n",
       "6                      Academic - Engineering                    Recognized   \n",
       "7  Academic - Education and Human Development                Not Recognized   \n",
       "8  Academic - Education and Human Development                Not Recognized   \n",
       "9                      Academic - Engineering                Not Recognized   \n",
       "\n",
       "                                             website  \\\n",
       "0  https://stuactonline.tamu.edu/app/organization...   \n",
       "1  https://stuactonline.tamu.edu/app/organization...   \n",
       "2  https://stuactonline.tamu.edu/app/organization...   \n",
       "3  https://stuactonline.tamu.edu/app/organization...   \n",
       "4  https://stuactonline.tamu.edu/app/organization...   \n",
       "5  https://stuactonline.tamu.edu/app/organization...   \n",
       "6                               http://sase.tamu.edu   \n",
       "7                           http://aggieaep.tamu.edu   \n",
       "8  https://stuactonline.tamu.edu/app/organization...   \n",
       "9  https://stuactonline.tamu.edu/app/organization...   \n",
       "\n",
       "                                                tags  \n",
       "0  the mission of dream outsid the box tamu is to...  \n",
       "1  the mission of the tamu fluid power club (tamu...  \n",
       "2  the mission of tamu futbol club(tamu fc) is to...  \n",
       "3  the mission of the societi of engin at mcallen...  \n",
       "4  sorri thi club is now closed. academ - engin g...  \n",
       "5  the mission of incos at texa a&m is to facilit...  \n",
       "6  sase is dedic to the advanc of asian heritag s...  \n",
       "7  the purpos of thi organ is to provid kinesiolo...  \n",
       "8  we strive to enrich the educ of k-12 student i...  \n",
       "9  the mission of agspir is to provid children in...  "
      ]
     },
     "execution_count": 35,
     "metadata": {},
     "output_type": "execute_result"
    }
   ],
   "source": [
    "val = \"Design Build\"\n",
    "recommend(closest_name(val))"
   ]
  },
  {
   "cell_type": "code",
   "execution_count": 115,
   "metadata": {
    "id": "TH1jR2RF1o2T"
   },
   "outputs": [],
   "source": [
    "import pickle\n",
    "import itertools\n",
    "pickle.dump(orgs,open('org_list.pkl','wb'))\n",
    "pickle.dump(similarity,open('similarity.pkl','wb'))\n",
    "import numpy as np"
   ]
  },
  {
   "cell_type": "code",
   "execution_count": 42,
   "metadata": {},
   "outputs": [],
   "source": [
    "category_map = {\n",
    "    \"academics\" : [\"Academic - Business\", \"Academic - Law\", \"Academic - Veterinary Medicine and Biomedical Sciences\", \"Academic - Honors\", \"Academic - Science\", \"Academic - Liberal Arts\", \"Academic - Education and Human Development\", \"Academic - Geosciences\", \"Academic - Architecture\", \"Academic - Government and Public Service\", \"Academic - Engineering\", \"Academic - Health Sciences\", \"Academic - Agriculture and Life Sciences\"],\n",
    "    \"fineArts\" : [\"Arts/ Entertainment\"],\n",
    "    \"greekLife\" : [\"Fraternity/Sorority Life\"],\n",
    "    \"leadership\" : [\"Leadership/Governance\"],\n",
    "    \"professional\" : [\"Professional/Career\"],\n",
    "    \"spiritual\" : [\"Religious/Spiritual\"],\n",
    "    \"cultural\" : [\"International/Multicultural\"],\n",
    "    \"service\" : [\"Politics/Advocacy\", \"Service\"],\n",
    "    \"social\" : [\"Social\", \"Recreation/Sports\"],\n",
    "    \"military\" : [\"Military\"],\n",
    "    \"residenceHalls\" : [\"Residence Halls\"],\n",
    "    \"specialInterest\" : [\"Special Interest\"]\n",
    "  }\n",
    "\n",
    "threshold_map = {\n",
    "    \"rec\" : [\"Recognized\", \"Exempt from Recognition\"],\n",
    "    \"pend\": [\"Recognized\", \"Renewing Recognition\", \"Pending Recognition\", \"Exempt from Recognition\", \"Recognized with Suspension\"],\n",
    "    \"all\" : [\"Recognized\", \"Not Recognized\", \"Renewing Recognition\", \"Recognized with Restrictions\", \"Exempt from Recognition\", \"Pending Recognition\", \"Recognized with Suspension\"]\n",
    "}\n",
    "\n",
    "def filtered_subset(filters):\n",
    "    cat_string, thresh = filters.split(\"&\")\n",
    "    categories = [category_map[val] for val in cat_string.split(\"-\")]\n",
    "    categories = list(itertools.chain(*categories))\n",
    "    rec_statuses = threshold_map[thresh]\n",
    "\n",
    "    # orgs_subset = orgs[orgs['filter'].isin(categories) & orgs['rec_status'].isin(rec_statuses)]\n",
    "    orgs_subset = orgs[orgs['rec_status'].isin(rec_statuses)]\n",
    "    return orgs_subset"
   ]
  },
  {
   "cell_type": "code",
   "execution_count": 208,
   "metadata": {},
   "outputs": [
    {
     "name": "stdout",
     "output_type": "stream",
     "text": [
      "                                       title  \\\n",
      "0                           Women In Nuclear   \n",
      "1           TAMUG Women Engineering Outreach   \n",
      "2         National Association of Women MBAs   \n",
      "3       Aggie Aerospace Women in Engineering   \n",
      "4             Women Law Students Association   \n",
      "5                    TAMSA Women in Medicine   \n",
      "6                 Society of Women Engineers   \n",
      "7            Texas A&M Women's Lacrosse Club   \n",
      "8  Women in Industrial & Systems Engineering   \n",
      "9        Texas Association of Women Dentists   \n",
      "\n",
      "                                                desc  \\\n",
      "0  The Texas A&M Chapter of Women in Nuclear is p...   \n",
      "1  The Women in Engineering Outreach Organization...   \n",
      "2  The Texas A&M chapter of National Association ...   \n",
      "3  To support and encourage women at the Texas A&...   \n",
      "4  WLSA is an organization for women law students...   \n",
      "5  Help support and provide awareness of women an...   \n",
      "6  The Society of Women Engineers (SWE), original...   \n",
      "7  The purpose of this organization shall be to p...   \n",
      "8  Our mission is to support and empower women an...   \n",
      "9  The Texas Association of Women Dentists is a p...   \n",
      "\n",
      "                       filter                    rec_status  \\\n",
      "0      Academic - Engineering                    Recognized   \n",
      "1      Academic - Engineering                    Recognized   \n",
      "2         Academic - Business  Recognized with Restrictions   \n",
      "3      Academic - Engineering                    Recognized   \n",
      "4              Academic - Law                    Recognized   \n",
      "5  Academic - Health Sciences                    Recognized   \n",
      "6      Academic - Engineering                    Recognized   \n",
      "7           Recreation/Sports                    Recognized   \n",
      "8      Academic - Engineering                    Recognized   \n",
      "9  Academic - Health Sciences                    Recognized   \n",
      "\n",
      "                                             website  \\\n",
      "0                     http://womeninnuclear.tamu.edu   \n",
      "1  https://stuactonline.tamu.edu/app/organization...   \n",
      "2                          http://womenmbas.tamu.edu   \n",
      "3                               http://aawe.tamu.edu   \n",
      "4  https://stuactonline.tamu.edu/app/organization...   \n",
      "5  https://stuactonline.tamu.edu/app/organization...   \n",
      "6                            http://tamuswe.tamu.edu   \n",
      "7                           http://wlacross.tamu.edu   \n",
      "8  https://stuactonline.tamu.edu/app/organization...   \n",
      "9  https://stuactonline.tamu.edu/app/organization...   \n",
      "\n",
      "                                                tags  \n",
      "0  the texa a&m chapter of women in nuclear is pa...  \n",
      "1  the women in engin outreach organ is creat for...  \n",
      "2  the texa a&m chapter of nation associ of women...  \n",
      "3  to support and encourag women at the texa a&m ...  \n",
      "4  wlsa is an organ for women law students. the o...  \n",
      "5  help support and provid awar of women and wome...  \n",
      "6  the societi of women engin (swe), origin found...  \n",
      "7  the purpos of thi organ shall be to promot the...  \n",
      "8  our mission is to support and empow women and ...  \n",
      "9  the texa associ of women dentist is a professi...  \n"
     ]
    }
   ],
   "source": [
    "def recommend2(org, orgs_subset):\n",
    "    \n",
    "    index = orgs_subset[orgs_subset['title'] == org].index[0]\n",
    "    indexes_to_use = np.array(orgs_subset.index.tolist())\n",
    "    # distances = sorted(list(altered_similarity.loc[index]),reverse=True,key = lambda x: x)\n",
    "    distances = np.array(sorted(list(enumerate(similarity[index])),reverse=True,key = lambda x: x[1]))\n",
    "    recommended_orgs = pd.DataFrame(columns=orgs_subset.columns)\n",
    "\n",
    "    matching_indexes = np.in1d(distances[:, 0], indexes_to_use)\n",
    "    distances = distances[matching_indexes]\n",
    "\n",
    "\n",
    "\n",
    "    if len(distances) >= 10:\n",
    "        for i in distances[0:10]:\n",
    "            recommended_orgs = pd.concat([recommended_orgs, orgs.iloc[[i[0]]]], ignore_index=True)\n",
    "    else:\n",
    "        for i in distances[0:len(distances)]:\n",
    "            recommended_orgs = pd.concat([recommended_orgs, orgs.iloc[[i[0]]]], ignore_index=True)\n",
    "    return recommended_orgs\n",
    "\n",
    "def closest_name2(input_name, orgs_subset):\n",
    "    closest = min(orgs_subset['title'].tolist(), key=lambda x: Levenshtein.distance(input_name.lower(), x.lower()))\n",
    "    return closest\n",
    "\n",
    "def search(name, filters):\n",
    "    subset = filtered_subset(filters)\n",
    "    orgname = closest_name2(name, subset)\n",
    "    # index = subset[subset['title'] == orgname].index[0]\n",
    "    # distances = sorted(list(enumerate(similarity[index])),reverse=True,key = lambda x: x[1])\n",
    "    # recommended_orgs = pd.DataFrame(columns=subset.columns)\n",
    "    # if len(distances) >= 10:\n",
    "    #     for i in distances[0:10]:\n",
    "    #         recommended_orgs = pd.concat([recommended_orgs, subset.iloc[[i[0]]]], ignore_index=True)\n",
    "    # else:\n",
    "    #     for i in distances[0:len(distances)-1]:\n",
    "    #         recommended_orgs = pd.concat([recommended_orgs, subset.iloc[[i[0]]]], ignore_index=True)\n",
    "    # return recommended_orgs\n",
    "    print(recommend2(orgname, subset))\n",
    "    # return recommend2(orgname, subset).to_json(orient=\"table\")\n",
    "\n",
    "\n",
    "search(\"women in engineering\", \"academics-fineArts-greekLife-leadership-professional-spiritual-cultural-service-social-military-residenceHalls-specialInterest&rec\")"
   ]
  }
 ],
 "metadata": {
  "colab": {
   "provenance": []
  },
  "kernelspec": {
   "display_name": "Python 3 (ipykernel)",
   "language": "python",
   "name": "python3"
  },
  "language_info": {
   "codemirror_mode": {
    "name": "ipython",
    "version": 3
   },
   "file_extension": ".py",
   "mimetype": "text/x-python",
   "name": "python",
   "nbconvert_exporter": "python",
   "pygments_lexer": "ipython3",
   "version": "3.10.4"
  }
 },
 "nbformat": 4,
 "nbformat_minor": 1
}
